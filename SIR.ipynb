{
 "cells": [
  {
   "cell_type": "code",
   "execution_count": 69,
   "id": "b6c2130b",
   "metadata": {},
   "outputs": [],
   "source": [
    "import numpy as np\n",
    "import pandas as pd\n",
    "import matplotlib.pyplot as plt"
   ]
  },
  {
   "cell_type": "code",
   "execution_count": 60,
   "id": "aaac8871",
   "metadata": {},
   "outputs": [],
   "source": [
    "path = \"kala_azar.csv\"\n",
    "path = \"filariasis.csv\"\n",
    "df  = pd.read_csv(path)"
   ]
  },
  {
   "cell_type": "code",
   "execution_count": 61,
   "id": "52e1eb7f",
   "metadata": {},
   "outputs": [
    {
     "data": {
      "text/plain": [
       "Index(['Disease', 'Disease.keyword', 'ExtractedDate', 'ExtractedDateTime',\n",
       "       'Incident', 'Incident.keyword', 'Incident_Type',\n",
       "       'Incident_Type.keyword', 'Incident_type', 'Incident_type.keyword',\n",
       "       'Language', 'Language.keyword', 'Location', 'Location.keyword',\n",
       "       'MLPipelineVersion', 'MLPipelineVersion.keyword', 'Number',\n",
       "       'OriginalArticle', 'OriginalArticle.keyword', 'Score', 'Source',\n",
       "       'Source.keyword', 'Start', 'TranslatedArticle',\n",
       "       'TranslatedArticle.keyword', 'Url', 'Url.keyword', '_id', '_index',\n",
       "       '_score', '_type'],\n",
       "      dtype='object')"
      ]
     },
     "execution_count": 61,
     "metadata": {},
     "output_type": "execute_result"
    }
   ],
   "source": [
    "df.columns"
   ]
  },
  {
   "cell_type": "code",
   "execution_count": 67,
   "id": "9f1c81a3",
   "metadata": {},
   "outputs": [
    {
     "data": {
      "text/plain": [
       "(160, 4)"
      ]
     },
     "execution_count": 67,
     "metadata": {},
     "output_type": "execute_result"
    }
   ],
   "source": [
    "df.shape"
   ]
  },
  {
   "cell_type": "code",
   "execution_count": 63,
   "id": "0344f23a",
   "metadata": {},
   "outputs": [
    {
     "data": {
      "text/plain": [
       "0       Mar 5, 2023 @ 08:39:22.000\n",
       "1      Feb 25, 2023 @ 09:17:13.000\n",
       "2      Feb 23, 2023 @ 13:35:04.000\n",
       "3      Feb 15, 2023 @ 16:35:12.000\n",
       "4      Feb 14, 2023 @ 14:35:04.000\n",
       "                  ...             \n",
       "97      Jun 8, 2022 @ 19:27:29.000\n",
       "98      Jun 1, 2022 @ 17:52:06.000\n",
       "99      Jun 1, 2022 @ 17:52:06.000\n",
       "100    May 27, 2022 @ 15:36:02.000\n",
       "101    Apr 26, 2022 @ 05:26:36.000\n",
       "Name: ExtractedDateTime, Length: 102, dtype: object"
      ]
     },
     "execution_count": 63,
     "metadata": {},
     "output_type": "execute_result"
    }
   ],
   "source": [
    "#df['ExtractedDateTime'] = pd.to_datetime(df['ExtractedDateTime'])\n",
    "\n",
    "df['ExtractedDateTime']"
   ]
  },
  {
   "cell_type": "code",
   "execution_count": null,
   "id": "d6d3ce38",
   "metadata": {},
   "outputs": [],
   "source": []
  },
  {
   "cell_type": "code",
   "execution_count": 91,
   "id": "0aa91335",
   "metadata": {},
   "outputs": [
    {
     "name": "stdout",
     "output_type": "stream",
     "text": [
      "10\n",
      "[0. 1. 2. 3. 4. 5.]\n",
      "[0. 1. 2. 3. 4. 5.]\n",
      "[[10.        ]\n",
      " [10.50000001]\n",
      " [12.00000001]\n",
      " [14.50000001]\n",
      " [18.00000001]\n",
      " [22.50000001]]\n"
     ]
    },
    {
     "data": {
      "image/png": "[encoded data removed]",
      "text/plain": [
       "<Figure size 432x288 with 1 Axes>"
      ]
     },
     "metadata": {},
     "output_type": "display_data"
    }
   ],
   "source": [
    "# ordinary differential equations\n",
    "def derivative(y,x):\n",
    "    dydx = x\n",
    "    return dydx\n",
    "\n",
    "print(ode(5,10))\n",
    "\n",
    "y0 = 10\n",
    "x = np.linspace(0,5,6)\n",
    "print(x)\n",
    "\n",
    "print(derivative(5,x))\n",
    "y = odeint(derivative, y0,x)\n",
    "print(y)\n",
    "\n",
    "plt.plot(x,y)\n",
    "plt.show()"
   ]
  },
  {
   "cell_type": "code",
   "execution_count": null,
   "id": "edaee364",
   "metadata": {},
   "outputs": [],
   "source": []
  },
  {
   "cell_type": "code",
   "execution_count": null,
   "id": "23b32b5f",
   "metadata": {},
   "outputs": [],
   "source": []
  },
  {
   "cell_type": "code",
   "execution_count": null,
   "id": "c96ea024",
   "metadata": {},
   "outputs": [],
   "source": []
  },
  {
   "cell_type": "code",
   "execution_count": 64,
   "id": "6ba61214",
   "metadata": {},
   "outputs": [],
   "source": [
    "import pandas as pd\n",
    "import numpy as np\n",
    "from scipy.integrate import odeint\n",
    "import matplotlib.pyplot as plt"
   ]
  },
  {
   "cell_type": "code",
   "execution_count": 65,
   "id": "a931a94e",
   "metadata": {},
   "outputs": [],
   "source": [
    "# The SIR model differential equations.\n",
    "def deriv(state, t, N, beta, gamma):\n",
    "    S, I, R = state\n",
    "    # Change in S population over time\n",
    "    dSdt = -beta * S * I / N\n",
    "    # Change in I population over time\n",
    "    dIdt = beta * S * I / N - gamma * I\n",
    "    # Change in R population over time\n",
    "    dRdt = gamma * I\n",
    "    return dSdt, dIdt, dRdt"
   ]
  },
  {
   "cell_type": "code",
   "execution_count": 94,
   "id": "ff3ff483",
   "metadata": {},
   "outputs": [
    {
     "name": "stdout",
     "output_type": "stream",
     "text": [
      "R0 is 3.0\n"
     ]
    },
    {
     "data": {
      "text/plain": [
       "<AxesSubplot:xlabel='day'>"
      ]
     },
     "execution_count": 94,
     "metadata": {},
     "output_type": "execute_result"
    },
    {
     "data": {
      "image/png": "[encoded data removed]",
      "text/plain": [
       "<Figure size 432x288 with 1 Axes>"
      ]
     },
     "metadata": {},
     "output_type": "display_data"
    }
   ],
   "source": [
    "effective_contact_rate = 1/3\n",
    "recovery_rate = 1/9\n",
    "\n",
    "# We'll compute this for fun\n",
    "print(\"R0 is\", effective_contact_rate / recovery_rate)\n",
    "\n",
    "# What's our start population look like?\n",
    "# Everyone not infected or recovered is susceptible\n",
    "total_pop = 10000\n",
    "recovered = 0\n",
    "infected = 1\n",
    "susceptible = total_pop - infected - recovered\n",
    "\n",
    "# A list of days, 0-160\n",
    "days = range(0, 160)\n",
    "\n",
    "# Use differential equations magic with our population\n",
    "ret = odeint(deriv,\n",
    "             [susceptible, infected, recovered],\n",
    "             days,\n",
    "             args=(total_pop, effective_contact_rate, recovery_rate))\n",
    "S, I, R = ret.T\n",
    "\n",
    "# Build a dataframe because why not\n",
    "df = pd.DataFrame({\n",
    "    'suseptible': S,\n",
    "    'infected': I,\n",
    "    'recovered': R,\n",
    "    'day': days\n",
    "})\n",
    "\n",
    "plt.style.use('ggplot')\n",
    "df.plot(x='day',\n",
    "        y=['infected', 'suseptible', 'recovered'],\n",
    "        color=['#bb6424', '#aac6ca', '#cc8ac0'],\n",
    "        kind='area',\n",
    "        stacked=True)\n",
    "\n",
    "# If you get the error:\n",
    "#\n",
    "#     When stacked is True, each column must be either all\n",
    "#     positive or negative.infected contains both...\n",
    "#\n",
    "# just change stacked=True to stacked=False"
   ]
  },
  {
   "cell_type": "code",
   "execution_count": null,
   "id": "66b3fa88",
   "metadata": {},
   "outputs": [],
   "source": []
  },
  {
   "cell_type": "code",
   "execution_count": null,
   "id": "916e39ce",
   "metadata": {},
   "outputs": [],
   "source": []
  },
  {
   "cell_type": "code",
   "execution_count": null,
   "id": "374541a2",
   "metadata": {},
   "outputs": [],
   "source": []
  },
  {
   "cell_type": "code",
   "execution_count": null,
   "id": "ecb0e36d",
   "metadata": {},
   "outputs": [],
   "source": []
  }
 ],
 "metadata": {
  "kernelspec": {
   "display_name": "Python 3 (ipykernel)",
   "language": "python",
   "name": "python3"
  },
  "language_info": {
   "codemirror_mode": {
    "name": "ipython",
    "version": 3
   },
   "file_extension": ".py",
   "mimetype": "text/x-python",
   "name": "python",
   "nbconvert_exporter": "python",
   "pygments_lexer": "ipython3",
   "version": "3.9.12"
  }
 },
 "nbformat": 4,
 "nbformat_minor": 5
}

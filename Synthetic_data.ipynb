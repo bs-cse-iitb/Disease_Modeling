{
 "cells": [
  {
   "cell_type": "code",
   "execution_count": 1,
   "id": "9458b88a",
   "metadata": {},
   "outputs": [],
   "source": [
    "import csv\n",
    "\n",
    "p=199\n",
    "n=5195\n",
    "with open('flariasis_synthetic.csv', 'w', newline='') as file:\n",
    "    writer = csv.writer(file)\n",
    "\n",
    "    writer.writerow([\"SNo\", \"flariasis\"])\n",
    "    for i in range(p):\n",
    "        writer.writerow([i, \"positive\"])\n",
    "    for i in range(p,p+n):\n",
    "        writer.writerow([i, \"negative\"])\n"
   ]
  }
 ],
 "metadata": {
  "kernelspec": {
   "display_name": "Python 3 (ipykernel)",
   "language": "python",
   "name": "python3"
  },
  "language_info": {
   "codemirror_mode": {
    "name": "ipython",
    "version": 3
   },
   "file_extension": ".py",
   "mimetype": "text/x-python",
   "name": "python",
   "nbconvert_exporter": "python",
   "pygments_lexer": "ipython3",
   "version": "3.9.12"
  }
 },
 "nbformat": 4,
 "nbformat_minor": 5
}
